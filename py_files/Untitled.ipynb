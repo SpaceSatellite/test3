{
 "cells": [
  {
   "cell_type": "code",
   "execution_count": 51,
   "id": "b1da4766-5e21-4b8d-a05e-59a763680cd9",
   "metadata": {},
   "outputs": [],
   "source": [
    "import pandas as pd\n",
    "import plotly.express as px"
   ]
  },
  {
   "cell_type": "code",
   "execution_count": 52,
   "id": "1339df39-7503-4e65-8952-e0f5a60440bf",
   "metadata": {},
   "outputs": [
    {
     "name": "stdout",
     "output_type": "stream",
     "text": [
      "['open_time', 'open', 'high', 'low', 'close', 'volume', 'close_time', 'qoute_volume', 'count', 'taker_buy_volume', 'taker_buy_quote_volume', 'ignore']\n"
     ]
    }
   ],
   "source": [
    "data = pd.read_csv('CSV_ETH/ETHUSDT-15m-2025-01.csv')\n",
    "print(list(data))"
   ]
  },
  {
   "cell_type": "code",
   "execution_count": 53,
   "id": "95076f3d-68fb-47ad-9b6c-bc1a4a30c66f",
   "metadata": {},
   "outputs": [],
   "source": [
    "eth_open = data['open']\n",
    "eth_high = data['high']\n",
    "eth_low = data['low']\n",
    "eth_close = data['close']"
   ]
  },
  {
   "cell_type": "code",
   "execution_count": 127,
   "id": "9eec03aa-d79e-4aa2-8217-d407afd9f911",
   "metadata": {},
   "outputs": [],
   "source": [
    "MA = []\n",
    "for i in range(1,10):\n",
    "    ma = []\n",
    "    for k in range(len(eth_close)-i):\n",
    "        ma.append(sum(eth_close[0+k:i+k])/i)\n",
    "    MA.append([str(ma)])"
   ]
  },
  {
   "cell_type": "code",
   "execution_count": 128,
   "id": "51cfcab3-edbb-415d-ae42-6aacaf414c34",
   "metadata": {},
   "outputs": [],
   "source": [
    "import sqlite3 as sq\n",
    "con = sq.connect('ETH.db')\n",
    "cur = con.cursor()"
   ]
  },
  {
   "cell_type": "code",
   "execution_count": null,
   "id": "5d3a27ef-e479-496f-91bc-6af250177b7a",
   "metadata": {},
   "outputs": [],
   "source": []
  },
  {
   "cell_type": "code",
   "execution_count": 129,
   "id": "acd85ef1-e542-472c-8e4f-9f3ca88aed05",
   "metadata": {},
   "outputs": [
    {
     "ename": "AttributeError",
     "evalue": "'sqlite3.Cursor' object has no attribute 'commit'",
     "output_type": "error",
     "traceback": [
      "\u001b[0;31m---------------------------------------------------------------------------\u001b[0m",
      "\u001b[0;31mAttributeError\u001b[0m                            Traceback (most recent call last)",
      "Cell \u001b[0;32mIn[129], line 2\u001b[0m\n\u001b[1;32m      1\u001b[0m cur\u001b[38;5;241m.\u001b[39mexecutemany(\u001b[38;5;124m'\u001b[39m\u001b[38;5;124mINSERT INTO ma_1m VALUES(?)\u001b[39m\u001b[38;5;124m'\u001b[39m, MA)\n\u001b[0;32m----> 2\u001b[0m \u001b[43mcur\u001b[49m\u001b[38;5;241;43m.\u001b[39;49m\u001b[43mcommit\u001b[49m()\n",
      "\u001b[0;31mAttributeError\u001b[0m: 'sqlite3.Cursor' object has no attribute 'commit'"
     ]
    }
   ],
   "source": [
    "cur.executemany('INSERT INTO ma_1m VALUES(?)', MA)"
   ]
  },
  {
   "cell_type": "code",
   "execution_count": null,
   "id": "13e8d7ec-bfcd-46c5-ab1a-8433807092de",
   "metadata": {},
   "outputs": [],
   "source": []
  }
 ],
 "metadata": {
  "kernelspec": {
   "display_name": "test_venv",
   "language": "python",
   "name": "test_venv"
  },
  "language_info": {
   "codemirror_mode": {
    "name": "ipython",
    "version": 3
   },
   "file_extension": ".py",
   "mimetype": "text/x-python",
   "name": "python",
   "nbconvert_exporter": "python",
   "pygments_lexer": "ipython3",
   "version": "3.13.1"
  }
 },
 "nbformat": 4,
 "nbformat_minor": 5
}
