{
 "cells": [
  {
   "cell_type": "code",
   "execution_count": null,
   "id": "8b42de56-34a8-4476-b8d3-a48643676dd7",
   "metadata": {},
   "outputs": [],
   "source": [
    "import requests\n",
    "\n",
    "market = 'ETHEUR'\n",
    "tick_interval = '1m'\n",
    "\n",
    "url = 'https://api.binance.com/api/v3/klines?symbol='+market+'&interval='+tick_interval\n",
    "data = requests.get(url).json()\n",
    "\n",
    "print(*data, sep='\\n')"
   ]
  },
  {
   "cell_type": "code",
   "execution_count": 1,
   "id": "cebbda39-48d8-4a8a-ac43-1dfa26c2f928",
   "metadata": {},
   "outputs": [
    {
     "name": "stdout",
     "output_type": "stream",
     "text": [
      "points: 2741\n",
      "first date: 1502928000000\n",
      "last date: 1739664000000\n"
     ]
    }
   ],
   "source": [
    "from binance import Client\n",
    "\n",
    "client = Client()\n",
    "start_str='03.01.2009'\n",
    "data = client.get_historical_klines(symbol='BTCUSDT', interval=Client.KLINE_INTERVAL_1DAY, start_str=start_str)\n",
    "\n",
    "print(f\"points: {len(data)}\")\n",
    "print(f\"first date: {data[0][0]}\")\n",
    "print(f\"last date: {data[-1][0]}\")"
   ]
  },
  {
   "cell_type": "code",
   "execution_count": null,
   "id": "59b59da6-3bce-40d2-a90a-abb0ab132a56",
   "metadata": {},
   "outputs": [],
   "source": []
  }
 ],
 "metadata": {
  "kernelspec": {
   "display_name": "test_venv",
   "language": "python",
   "name": "test_venv"
  },
  "language_info": {
   "codemirror_mode": {
    "name": "ipython",
    "version": 3
   },
   "file_extension": ".py",
   "mimetype": "text/x-python",
   "name": "python",
   "nbconvert_exporter": "python",
   "pygments_lexer": "ipython3",
   "version": "3.13.1"
  }
 },
 "nbformat": 4,
 "nbformat_minor": 5
}
